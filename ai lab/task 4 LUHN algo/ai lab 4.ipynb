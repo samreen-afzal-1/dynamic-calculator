{
 "cells": [
  {
   "cell_type": "markdown",
   "id": "5b7a7380",
   "metadata": {},
   "source": [
    "### 3. Write a python program to sort the sentence in alphabetical order?"
   ]
  },
  {
   "cell_type": "code",
   "execution_count": 3,
   "id": "ae7cc74e",
   "metadata": {},
   "outputs": [
    {
     "name": "stdout",
     "output_type": "stream",
     "text": [
      "Original Sentence: Python makes programming easy and fun\n",
      "Sorted Sentence (ASCII Order): and easy fun makes programming Python\n"
     ]
    }
   ],
   "source": [
    "\n",
    "\n",
    "def sentenceseq(sentence):\n",
    "    words = sentence.split()\n",
    "\n",
    "    for i in range(len(words)):\n",
    "        for j in range(i + 1, len(words)):\n",
    "            if words[i].lower() > words[j].lower():  \n",
    "                words[i], words[j] = words[j], words[i]\n",
    "\n",
    "\n",
    "    sorted_sentence = \" \".join(words)\n",
    "    return sorted_sentence\n",
    "\n",
    "\n",
    "sentence = \"Python makes programming easy and fun\"\n",
    "result = sentenceseq(sentence)\n",
    "print(\"Original Sentence:\", sentence)\n",
    "print(\"Sorted Sentence (ASCII Order):\", result)\n",
    "\n"
   ]
  },
  {
   "cell_type": "markdown",
   "id": "0f39b2f9",
   "metadata": {},
   "source": [
    "### 2. Write a python program to remove punctuations from the given string?"
   ]
  },
  {
   "cell_type": "code",
   "execution_count": null,
   "id": "2e79ed45",
   "metadata": {},
   "outputs": [
    {
     "name": "stdout",
     "output_type": "stream",
     "text": [
      "Original: Hello!!! This, is a test... string?? #Python@2025!\n",
      "Without Punctuations: Hello This is a test string Python2025\n"
     ]
    }
   ],
   "source": [
    "# Program to remove punctuations without import or listing symbols\n",
    "\n",
    "def remove_punctuations(text):\n",
    "    clean_text = \"\"\n",
    "    for char in text:\n",
    "        \n",
    "        if ('A' <= char <= 'Z') or ('a' <= char <= 'z') or ('0' <= char <= '9') or char == \" \":\n",
    "            clean_text += char\n",
    "    return clean_text\n",
    "\n",
    "\n",
    "\n",
    "sentence = \"Hello!!! This, is a test... string?? #Python@2025!\"\n",
    "result = remove_punctuations(sentence)\n",
    "print(\"Original:\", sentence)\n",
    "print(\"Without Punctuations:\", result)\n"
   ]
  },
  {
   "cell_type": "code",
   "execution_count": 8,
   "id": "e3eeb366",
   "metadata": {},
   "outputs": [
    {
     "name": "stdout",
     "output_type": "stream",
     "text": [
      " Original number: 4539 1488 0343 6467\n",
      " After removing spaces: 4539148803436467\n",
      " Reversed digits: 7646343088419354\n",
      "   Doubled index 1: 12\n",
      "   After subtracting 9: 3\n",
      "   Doubled index 3: 12\n",
      "   After subtracting 9: 3\n",
      "   Doubled index 5: 8\n",
      "   Doubled index 7: 0\n",
      "   Doubled index 9: 16\n",
      "   After subtracting 9: 7\n",
      "   Doubled index 11: 2\n",
      "   Doubled index 13: 6\n",
      "   Doubled index 15: 8\n",
      " Total sum of digits: 80\n",
      " Valid Card Number\n"
     ]
    }
   ],
   "source": [
    "\n",
    "\n",
    "def luhn_check(card_number):\n",
    "    print(\" Original number:\", card_number)\n",
    "\n",
    "    # Step 2: Remove spaces\n",
    "    card_number = card_number.replace(\" \", \"\")\n",
    "    print(\" After removing spaces:\", card_number)\n",
    "\n",
    "    # Step 3: Reverse the digits\n",
    "    digits = card_number[::-1]\n",
    "    print(\" Reversed digits:\", digits)\n",
    "\n",
    "    total = 0\n",
    "    for i in range(len(digits)):\n",
    "        n = int(digits[i])\n",
    "\n",
    "        # Step 4: Double every second digit (index 1,3,5,...)\n",
    "        if i % 2 == 1:\n",
    "            n = n * 2\n",
    "            print(f\"   Doubled index {i}: {n}\")\n",
    "\n",
    "            # Step 5: Subtract 9 if > 9\n",
    "            if n > 9:\n",
    "                n = n - 9\n",
    "                print(f\"   After subtracting 9: {n}\")\n",
    "\n",
    "        # Step 6: Add to total\n",
    "        total += n\n",
    "\n",
    "    print(\" Total sum of digits:\", total)\n",
    "\n",
    "    # Step 7: Check if total is divisible by 10\n",
    "    if total % 10 == 0:\n",
    "        print(\" Valid Card Number\")\n",
    "    else:\n",
    "        print(\" Invalid Card Number\")\n",
    "\n",
    "\n",
    "card = \"4539 1488 0343 6467\"\n",
    "luhn_check(card)\n"
   ]
  },
  {
   "cell_type": "markdown",
   "id": "d412b408",
   "metadata": {},
   "source": [
    "#### DYNAMIC VERSION"
   ]
  },
  {
   "cell_type": "code",
   "execution_count": 10,
   "id": "5ba841ad",
   "metadata": {},
   "outputs": [
    {
     "name": "stdout",
     "output_type": "stream",
     "text": [
      " Original number: 1363463563563\n",
      " After removing spaces: 1363463563563\n",
      " Reversed digits: 3653653643631\n",
      " Total sum of digits: 53\n",
      " Invalid Card Number\n"
     ]
    }
   ],
   "source": [
    "# LUHN Algorithm - Dynamic Version\n",
    "# Checks if a card number entered by user is valid\n",
    "\n",
    "def luhn_check(card_number):\n",
    "    print(\" Original number:\", card_number)\n",
    "\n",
    "    # Step 2: Remove spaces\n",
    "    card_number = card_number.replace(\" \", \"\")\n",
    "    print(\" After removing spaces:\", card_number)\n",
    "    # Step 3: Reverse the digits\n",
    "    digits = card_number[::-1]\n",
    "    print(\" Reversed digits:\", digits)\n",
    "\n",
    "    total = 0\n",
    "    for i in range(len(digits)):\n",
    "        n = int(digits[i])\n",
    "\n",
    "        # Step 4: Double every second digit\n",
    "        if i % 2 == 1:\n",
    "            n = n * 2\n",
    "\n",
    "            # Step 5: If result > 9, subtract 9\n",
    "            if n > 9:\n",
    "                n = n - 9\n",
    "\n",
    "        # Step 6: Add to total\n",
    "        total += n\n",
    "\n",
    "\n",
    "    print(\" Total sum of digits:\", total)\n",
    "\n",
    "    # Step 7: Check if valid\n",
    "    if total % 10 == 0:\n",
    "        print(\" Valid Card Number\")\n",
    "    else:\n",
    "        print(\"\" \\\n",
    "        \" Invalid Card Number\")\n",
    "\n",
    "\n",
    "card = input(\"Enter your card number: \")\n",
    "luhn_check(card)\n"
   ]
  }
 ],
 "metadata": {
  "kernelspec": {
   "display_name": "base",
   "language": "python",
   "name": "python3"
  },
  "language_info": {
   "codemirror_mode": {
    "name": "ipython",
    "version": 3
   },
   "file_extension": ".py",
   "mimetype": "text/x-python",
   "name": "python",
   "nbconvert_exporter": "python",
   "pygments_lexer": "ipython3",
   "version": "3.12.7"
  }
 },
 "nbformat": 4,
 "nbformat_minor": 5
}
