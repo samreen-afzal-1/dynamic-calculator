{
 "cells": [
  {
   "cell_type": "code",
   "execution_count": 4,
   "id": "cfbd74dc",
   "metadata": {},
   "outputs": [
    {
     "name": "stdout",
     "output_type": "stream",
     "text": [
      "Temperature: 16°C → Heater: ON\n",
      "Temperature: 19°C → Heater: ON\n",
      "Temperature: 10°C → Heater: ON\n",
      "Temperature: 27°C → Heater: OFF\n",
      "Temperature: 16°C → Heater: ON\n",
      "Temperature: 17°C → Heater: ON\n",
      "Temperature: 20°C → Heater: ON\n",
      "Temperature: 27°C → Heater: OFF\n",
      "all data saved in 'temperature_log.txt'\n"
     ]
    }
   ],
   "source": [
    "# Model-Based Reflex Agent \n",
    "# It controls a heater based on temperature\n",
    "# and remembers previous action + saves data in a file\n",
    "\n",
    "class ModelBasedReflexAgent:\n",
    "    def __init__(self):\n",
    "        self.previous_action = \"OFF\"  \n",
    "\n",
    "    def decide_action(self, temperature):\n",
    "        \"\"\"Decide action based on current temperature and previous action\"\"\"\n",
    "        if temperature < 18 and self.previous_action != \"ON\":\n",
    "            action = \"ON\"\n",
    "        elif temperature > 24 and self.previous_action != \"OFF\":\n",
    "            action = \"OFF\"\n",
    "        else:\n",
    "            action = self.previous_action  \n",
    "\n",
    "        self.previous_action = action\n",
    "        return action\n",
    "\n",
    "    def save_data(self, temperature, action):\n",
    "        \"\"\"Save data in file\"\"\"\n",
    "        with open(\"temperature_log.txt\", \"a\") as file:\n",
    "            file.write(f\"Temperature: {temperature}°C → Heater: {action}\\n\")\n",
    "\n",
    "    def run(self, readings):\n",
    "        \"\"\"Run the agent for given temperature readings\"\"\"\n",
    "        for temp in readings:\n",
    "            action = self.decide_action(temp)\n",
    "            print(f\"Temperature: {temp}°C → Heater: {action}\")\n",
    "            self.save_data(temp, action)\n",
    "\n",
    "\n",
    "\n",
    "agent = ModelBasedReflexAgent()\n",
    "\n",
    "\n",
    "temperatures = [16, 19, 10, 27, 16, 17, 20, 27]\n",
    "\n",
    "agent.run(temperatures)\n",
    "\n",
    "print(\"all data saved in 'temperature_log.txt'\")\n"
   ]
  },
  {
   "cell_type": "markdown",
   "id": "3c929563",
   "metadata": {},
   "source": [
    "### for multiple rooms \n"
   ]
  },
  {
   "cell_type": "code",
   "execution_count": 5,
   "id": "82fa59f4",
   "metadata": {},
   "outputs": [
    {
     "name": "stdout",
     "output_type": "stream",
     "text": [
      "Room: Living Room    Temp: 16°C → Heater: ON\n",
      "Room: Bedroom    Temp: 21°C → Heater: OFF\n",
      "Room: Kitchen    Temp: 25°C → Heater: OFF\n",
      "Room: Study Room    Temp: 19°C → Heater: OFF\n",
      "Room: Guest Room    Temp: 27°C → Heater: OFF\n",
      "All data saved in 'multiroom_temperature_log.txt'\n"
     ]
    }
   ],
   "source": [
    "\n",
    "# Controls heater for multiple rooms and saves data\n",
    "\n",
    "class ModelBasedReflexAgent:\n",
    "    def __init__(self):\n",
    "        # Dictionary to remember last action of each room\n",
    "        self.room_states = {}\n",
    "\n",
    "    def decide_action(self, room, temperature):\n",
    "        \"\"\"Decide heater action for each room\"\"\"\n",
    "        previous_action = self.room_states.get(room, \"OFF\")\n",
    "\n",
    "        if temperature < 18 and previous_action != \"ON\":\n",
    "            action = \"ON\"\n",
    "        elif temperature > 24 and previous_action != \"OFF\":\n",
    "            action = \"OFF\"\n",
    "        else:\n",
    "            action = previous_action  \n",
    "\n",
    "        self.room_states[room] = action\n",
    "        return action\n",
    "\n",
    "    def save_data(self, room, temperature, action):\n",
    "        \"\"\"Save data to file\"\"\"\n",
    "        with open(\"multiroom_temperature_log.txt\", \"a\") as file:\n",
    "            file.write(f\"Room: {room}   Temp: {temperature}°C   Heater: {action}\\n\")\n",
    "\n",
    "    def run(self, readings):\n",
    "        \"\"\"Run the agent for all rooms\"\"\"\n",
    "        for room, temp in readings.items():\n",
    "            action = self.decide_action(room, temp)\n",
    "            print(f\"Room: {room}    Temp: {temp}°C → Heater: {action}\")\n",
    "            self.save_data(room, temp, action)\n",
    "\n",
    "\n",
    "agent = ModelBasedReflexAgent()\n",
    "\n",
    "\n",
    "room_temperatures = {\n",
    "    \"Living Room\": 16,\n",
    "    \"Bedroom\": 21,\n",
    "    \"Kitchen\": 25,\n",
    "    \"Study Room\": 19,\n",
    "    \"Guest Room\": 27\n",
    "}\n",
    "\n",
    "agent.run(room_temperatures)\n",
    "\n",
    "print(\"All data saved in 'multiroom_temperature_log.txt'\")\n"
   ]
  }
 ],
 "metadata": {
  "kernelspec": {
   "display_name": "base",
   "language": "python",
   "name": "python3"
  },
  "language_info": {
   "codemirror_mode": {
    "name": "ipython",
    "version": 3
   },
   "file_extension": ".py",
   "mimetype": "text/x-python",
   "name": "python",
   "nbconvert_exporter": "python",
   "pygments_lexer": "ipython3",
   "version": "3.12.7"
  }
 },
 "nbformat": 4,
 "nbformat_minor": 5
}
