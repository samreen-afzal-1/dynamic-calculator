{
 "cells": [
  {
   "cell_type": "code",
   "execution_count": null,
   "id": "07f39749",
   "metadata": {},
   "outputs": [
    {
     "name": "stdout",
     "output_type": "stream",
     "text": [
      "Expression: 1+2*3(4-5/4)-(3/5)\n",
      "Result: 65.9\n"
     ]
    }
   ],
   "source": [
    "def calculate(terms):\n",
    "\n",
    "    \n",
    "    # Solve brackets first\n",
    "    while '(' in terms:\n",
    "        start = terms.rfind('(')  # find last opening bracket\n",
    "        end = terms.find(')', start)\n",
    "        inside = terms[start+1:end]\n",
    "        value = calculate(inside)       # solve inside brackets first\n",
    "        terms = terms[:start] + str(value) + terms[end+1:]\n",
    "\n",
    "    #  Convert string into numbers and operators\n",
    "    numbers = []\n",
    "    operators = []\n",
    "    num = \"\"\n",
    "\n",
    "    for ch in terms:\n",
    "        if ch in \"+-*/\":\n",
    "            numbers.append(float(num))\n",
    "            operators.append(ch)\n",
    "            num = \"\"\n",
    "        else:\n",
    "            num += ch\n",
    "    numbers.append(float(num))\n",
    "\n",
    "    #  Apply BODMAS (*/ first, then +-)\n",
    "    # First handle * and /\n",
    "    i = 0\n",
    "    while i < len(operators):\n",
    "        if operators[i] in \"*/\":\n",
    "            if operators[i] == '*':\n",
    "                result = numbers[i] * numbers[i+1]\n",
    "            else:\n",
    "                result = numbers[i] / numbers[i+1]\n",
    "            numbers[i] = result\n",
    "            numbers.pop(i+1)\n",
    "            operators.pop(i)\n",
    "        else:\n",
    "            i += 1\n",
    "\n",
    "    # Now handle + and -\n",
    "    result = numbers[0]\n",
    "    for i in range(len(operators)):\n",
    "        if operators[i] == '+':\n",
    "            result += numbers[i+1]\n",
    "        else:\n",
    "            result -= numbers[i+1]\n",
    "\n",
    "    return result\n",
    "\n",
    "terms= \"1+2*3(4-5/4)-(3/5)\"\n",
    "print(\"Expression:\", terms)\n",
    "print(\"Result:\", calculate(terms))\n"
   ]
  }
 ],
 "metadata": {
  "kernelspec": {
   "display_name": "base",
   "language": "python",
   "name": "python3"
  },
  "language_info": {
   "codemirror_mode": {
    "name": "ipython",
    "version": 3
   },
   "file_extension": ".py",
   "mimetype": "text/x-python",
   "name": "python",
   "nbconvert_exporter": "python",
   "pygments_lexer": "ipython3",
   "version": "3.12.7"
  }
 },
 "nbformat": 4,
 "nbformat_minor": 5
}
