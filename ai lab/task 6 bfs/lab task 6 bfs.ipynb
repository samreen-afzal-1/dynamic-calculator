{
 "cells": [
  {
   "cell_type": "code",
   "execution_count": null,
   "id": "f6fc6550",
   "metadata": {},
   "outputs": [
    {
     "name": "stdout",
     "output_type": "stream",
     "text": [
      "BFS traversal (with recursion and queue):\n",
      "A B C D E F "
     ]
    }
   ],
   "source": [
    "class Queue:\n",
    "    def __init__(self):\n",
    "        self.items = []\n",
    "\n",
    "    def enqueue(self, item):   \n",
    "        self.items.append(item)\n",
    "\n",
    "    def dequeue(self):         \n",
    "        if not self.is_empty():\n",
    "            return self.items.pop(0)\n",
    "\n",
    "    def peek(self):           \n",
    "        if not self.is_empty():\n",
    "            return self.items[0]\n",
    "\n",
    "    def is_empty(self):        \n",
    "        return len(self.items) == 0\n",
    "\n",
    "\n",
    "def bfs_recursive(graph, queue, visited):\n",
    "    if queue.is_empty():\n",
    "        return\n",
    "    \n",
    "    node = queue.dequeue()\n",
    "    print(node, end=\" \")\n",
    "    \n",
    "    for neighbor in graph[node]:\n",
    "        if neighbor not in visited:\n",
    "            visited.append(neighbor)\n",
    "            queue.enqueue(neighbor)\n",
    "    \n",
    "    bfs_recursive(graph, queue, visited)  \n",
    "\n",
    "\n",
    "graph = {\n",
    "    'A': ['B', 'C'],\n",
    "    'B': ['D', 'E'],\n",
    "    'C': ['F'],\n",
    "    'D': [],\n",
    "    'E': ['F'],\n",
    "    'F': []\n",
    "}\n",
    "\n",
    "visited = []\n",
    "queue = Queue()\n",
    "\n",
    "start = 'A'\n",
    "visited.append(start)\n",
    "queue.enqueue(start)\n",
    "\n",
    "print(\"BFS traversal (with recursion and queue):\")\n",
    "bfs_recursive(graph, queue, visited)\n"
   ]
  }
 ],
 "metadata": {
  "kernelspec": {
   "display_name": "base",
   "language": "python",
   "name": "python3"
  },
  "language_info": {
   "codemirror_mode": {
    "name": "ipython",
    "version": 3
   },
   "file_extension": ".py",
   "mimetype": "text/x-python",
   "name": "python",
   "nbconvert_exporter": "python",
   "pygments_lexer": "ipython3",
   "version": "3.12.7"
  }
 },
 "nbformat": 4,
 "nbformat_minor": 5
}
