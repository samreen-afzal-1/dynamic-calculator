{
 "cells": [
  {
   "cell_type": "markdown",
   "id": "b2f298b3",
   "metadata": {},
   "source": [
    "## MINI PROJECT\n",
    "### 1.FizzBuzz Game \n",
    "### 2.Movie budget analyzer            "
   ]
  },
  {
   "cell_type": "markdown",
   "id": "aba49095",
   "metadata": {},
   "source": [
    "### *Random number from 1 to 50 fizz buzz game* "
   ]
  },
  {
   "cell_type": "code",
   "execution_count": null,
   "id": "ae21c319",
   "metadata": {},
   "outputs": [
    {
     "name": "stdout",
     "output_type": "stream",
     "text": [
      " Random FizzBuzz Game \n",
      "Rules: PC shows a random number (1-50).\n",
      "You reply with Fizz, Buzz, FizzBuzz, or the sum result.\n",
      "If you are wrong:Game Over!\n",
      "\n",
      " Wrong! Correct was: 37\n",
      " Game Over! You survived 0 round(s).\n"
     ]
    }
   ],
   "source": [
    "import random\n",
    "\n",
    "def fizzbuzz_from_total(total: int) -> str:\n",
    "    \"\"\"Return FizzBuzz result for a total value.\"\"\"\n",
    "    if total % 15 == 0:\n",
    "        return \"FizzBuzz\"\n",
    "    elif total % 3 == 0:\n",
    "        return \"Fizz\"\n",
    "    elif total % 5 == 0:\n",
    "        return \"Buzz\"\n",
    "    else:\n",
    "        return str(total)\n",
    "\n",
    "def normal(ans: str) :\n",
    "    \"\"\"Normalize user input for comparison.\"\"\"\n",
    "    s = ans.strip()\n",
    "    if s.lstrip(\"-\").isdigit():\n",
    "        return str(int(s))\n",
    "    return s.capitalize()\n",
    "\n",
    "def play_random_fizzbuzz(rounds: int = 10):\n",
    "    print(\" Random FizzBuzz Game \")\n",
    "    print(\"Rules: PC shows a random number (1-50).\")\n",
    "    print(\"You reply with Fizz, Buzz, FizzBuzz, or the sum result.\")\n",
    "    print(\"If you are wrong:Game Over!\\n\")\n",
    "    \n",
    "    prev = 0\n",
    "    score = 0\n",
    "    \n",
    "    for _ in range(rounds):\n",
    "        num = random.randint(1, 50)   # random number between 1 and 50\n",
    "        total = prev + num\n",
    "        correct = fizzbuzz_from_total(total)\n",
    "\n",
    "        # PC shows only current number\n",
    "        user = input(f\"Number: {num} → Your answer: \")\n",
    "\n",
    "        if normal(user) == normal(correct):\n",
    "            print(\"Correct!\\n\")\n",
    "            score += 1\n",
    "            prev = num\n",
    "        else:\n",
    "            print(f\" Wrong! Correct was: {correct}\")\n",
    "            print(f\" Game Over! You survived {score} round(s).\")\n",
    "            break\n",
    "    else:\n",
    "        print(f\" Congratulations! You survived all {rounds} rounds.\")\n",
    "\n",
    "# Run Game\n",
    "play_random_fizzbuzz(15)   # play 15 rounds\n"
   ]
  },
  {
   "cell_type": "markdown",
   "id": "89fcdfbd",
   "metadata": {},
   "source": [
    "\n",
    "## MOVIE  Budget Analyzer"
   ]
  },
  {
   "cell_type": "code",
   "execution_count": null,
   "id": "72cf9960",
   "metadata": {},
   "outputs": [
    {
     "name": "stdout",
     "output_type": "stream",
     "text": [
      " The average budget is: $190,500,000\n",
      "\n",
      " Movies that spent more than the average:\n",
      "\n",
      " Pirates of the Caribbean: On Stranger Tides (spent $188,500,000 more than average )\n",
      " Avengers: Age of Ultron (spent $174,500,000 more than average )\n",
      " Avengers: Endgame (spent $165,500,000 more than average )\n",
      " Incredibles 2 (spent $9,500,000 more than average )\n",
      " Number of movies above average: 4\n"
     ]
    }
   ],
   "source": [
    "#  Simple Movie Budget Program\n",
    "\n",
    "movies = [\n",
    "    (\"Eternal Sunshine of the Spotless Mind\", 20000000),\n",
    "    (\"Memento\", 9000000),\n",
    "    (\"Requiem for a Dream\", 4500000),\n",
    "    (\"Pirates of the Caribbean: On Stranger Tides\", 379000000),\n",
    "    (\"Avengers: Age of Ultron\", 365000000),\n",
    "    (\"Avengers: Endgame\", 356000000),\n",
    "    (\"Incredibles 2\", 200000000)\n",
    "]\n",
    "\n",
    "\n",
    "\n",
    "# 1. Find the average budget\n",
    "total = 0\n",
    "for movie in movies:\n",
    "    total += movie[1]\n",
    "\n",
    "average = total / len(movies)\n",
    "print(f\" The average budget is: ${average:,.0f}\\n\")\n",
    "\n",
    "# 2. Show movies above average\n",
    "print(\" Movies that spent more than the average:\\n\")\n",
    "count = 0\n",
    "for name, budget in movies:\n",
    "    if budget > average:\n",
    "        print(f\" {name} (spent ${budget - average:,.0f} more than average )\")\n",
    "        count += 1\n",
    "\n",
    "# 3. Show how many movies are above average\n",
    "print(f\" Number of movies above average: {count}\")\n"
   ]
  }
 ],
 "metadata": {
  "kernelspec": {
   "display_name": "base",
   "language": "python",
   "name": "python3"
  },
  "language_info": {
   "codemirror_mode": {
    "name": "ipython",
    "version": 3
   },
   "file_extension": ".py",
   "mimetype": "text/x-python",
   "name": "python",
   "nbconvert_exporter": "python",
   "pygments_lexer": "ipython3",
   "version": "3.12.7"
  }
 },
 "nbformat": 4,
 "nbformat_minor": 5
}
